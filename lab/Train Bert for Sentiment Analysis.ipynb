{
 "cells": [
  {
   "cell_type": "code",
   "execution_count": 395,
   "id": "initial_id",
   "metadata": {
    "collapsed": true,
    "ExecuteTime": {
     "end_time": "2023-12-10T13:09:20.170982Z",
     "start_time": "2023-12-10T13:09:19.964666500Z"
    }
   },
   "outputs": [
    {
     "name": "stdout",
     "output_type": "stream",
     "text": [
      "The autoreload extension is already loaded. To reload it, use:\n",
      "  %reload_ext autoreload\n"
     ]
    }
   ],
   "source": [
    "%load_ext autoreload\n",
    "%autoreload 2\n",
    "\n",
    "import pandas as pd\n",
    "import numpy as np\n",
    "\n",
    "import matplotlib.pyplot as plt\n",
    "\n",
    "from sklearn.model_selection import train_test_split\n",
    "\n",
    "import torch\n",
    "import torch.nn as nn\n",
    "from torch.utils.data import DataLoader, SequentialSampler, RandomSampler\n",
    "\n",
    "from transformers import BertTokenizer, BertForSequenceClassification\n",
    "\n",
    "from utils import (init_random_seed, count_parameters, EmotionDataset, \n",
    "                   train_eval_loop, predict_with_model, calculate_metrics)"
   ]
  },
  {
   "cell_type": "code",
   "execution_count": 396,
   "outputs": [],
   "source": [
    "SEED = 1\n",
    "TRAIN_MODEL = False  # if True, then train model and save it. if False, just load it\n",
    "PATH_MODEL = \"./Pre-trained Models/BertSentimentAnalysis.pth\"\n",
    "\n",
    "path_positive_tweets = './Data/Positive_tweets.csv'\n",
    "path_negative_tweets = './Data/Negative_tweets.csv'"
   ],
   "metadata": {
    "collapsed": false,
    "ExecuteTime": {
     "end_time": "2023-12-10T13:09:20.275828400Z",
     "start_time": "2023-12-10T13:09:20.155342300Z"
    }
   },
   "id": "6a8959beee0d23c2"
  },
  {
   "cell_type": "code",
   "execution_count": 397,
   "outputs": [],
   "source": [
    "init_random_seed(SEED)"
   ],
   "metadata": {
    "collapsed": false,
    "ExecuteTime": {
     "end_time": "2023-12-10T13:09:20.349722100Z",
     "start_time": "2023-12-10T13:09:20.252971600Z"
    }
   },
   "id": "2440a126c2c25d84"
  },
  {
   "cell_type": "code",
   "execution_count": 398,
   "outputs": [],
   "source": [
    "model_name = \"cointegrated/rubert-tiny2\"\n",
    "\n",
    "tokenizer = BertTokenizer.from_pretrained(model_name, do_lower_case=True)"
   ],
   "metadata": {
    "collapsed": false,
    "ExecuteTime": {
     "end_time": "2023-12-10T13:09:21.026758400Z",
     "start_time": "2023-12-10T13:09:20.351903600Z"
    }
   },
   "id": "2caacec8c0d8cb8a"
  },
  {
   "cell_type": "code",
   "execution_count": 399,
   "outputs": [],
   "source": [
    "pos_texts = pd.read_csv(path_positive_tweets, encoding='utf8', sep=';', header=None)\n",
    "neg_texts = pd.read_csv(path_negative_tweets, encoding='utf8', sep=';', header=None)"
   ],
   "metadata": {
    "collapsed": false,
    "ExecuteTime": {
     "end_time": "2023-12-10T13:09:21.904558200Z",
     "start_time": "2023-12-10T13:09:21.027855100Z"
    }
   },
   "id": "e2183fbafd5e48ac"
  },
  {
   "cell_type": "code",
   "execution_count": 400,
   "outputs": [
    {
     "data": {
      "text/plain": "                       0           1             2   \\\n42347  409941054688092160  1386572538  ArxangelPlay   \n67507  410393622744276992  1386680439  albinchik_zh   \n77802  410713862720466944  1386756790      Arinorik   \n\n                                                      3   4   5   6   7   \\\n42347  @karin_karin_b вспомнил, что ты любишь котиков...   1   0   0   0   \n67507  @Ksu_Lushnikova вдруг потом посмотрят, а запис...   1   0   0   0   \n77802  RT @Shady_Kate: @Arinorik Ооо, выздоравливай, ...   1   0   1   0   \n\n         8    9    10  11  \n42347   953   26   21   0  \n67507  1905   45   34   1  \n77802  7702  262  132   3  ",
      "text/html": "<div>\n<style scoped>\n    .dataframe tbody tr th:only-of-type {\n        vertical-align: middle;\n    }\n\n    .dataframe tbody tr th {\n        vertical-align: top;\n    }\n\n    .dataframe thead th {\n        text-align: right;\n    }\n</style>\n<table border=\"1\" class=\"dataframe\">\n  <thead>\n    <tr style=\"text-align: right;\">\n      <th></th>\n      <th>0</th>\n      <th>1</th>\n      <th>2</th>\n      <th>3</th>\n      <th>4</th>\n      <th>5</th>\n      <th>6</th>\n      <th>7</th>\n      <th>8</th>\n      <th>9</th>\n      <th>10</th>\n      <th>11</th>\n    </tr>\n  </thead>\n  <tbody>\n    <tr>\n      <th>42347</th>\n      <td>409941054688092160</td>\n      <td>1386572538</td>\n      <td>ArxangelPlay</td>\n      <td>@karin_karin_b вспомнил, что ты любишь котиков...</td>\n      <td>1</td>\n      <td>0</td>\n      <td>0</td>\n      <td>0</td>\n      <td>953</td>\n      <td>26</td>\n      <td>21</td>\n      <td>0</td>\n    </tr>\n    <tr>\n      <th>67507</th>\n      <td>410393622744276992</td>\n      <td>1386680439</td>\n      <td>albinchik_zh</td>\n      <td>@Ksu_Lushnikova вдруг потом посмотрят, а запис...</td>\n      <td>1</td>\n      <td>0</td>\n      <td>0</td>\n      <td>0</td>\n      <td>1905</td>\n      <td>45</td>\n      <td>34</td>\n      <td>1</td>\n    </tr>\n    <tr>\n      <th>77802</th>\n      <td>410713862720466944</td>\n      <td>1386756790</td>\n      <td>Arinorik</td>\n      <td>RT @Shady_Kate: @Arinorik Ооо, выздоравливай, ...</td>\n      <td>1</td>\n      <td>0</td>\n      <td>1</td>\n      <td>0</td>\n      <td>7702</td>\n      <td>262</td>\n      <td>132</td>\n      <td>3</td>\n    </tr>\n  </tbody>\n</table>\n</div>"
     },
     "execution_count": 400,
     "metadata": {},
     "output_type": "execute_result"
    }
   ],
   "source": [
    "pos_texts.sample(3)"
   ],
   "metadata": {
    "collapsed": false,
    "ExecuteTime": {
     "end_time": "2023-12-10T13:09:22.018387700Z",
     "start_time": "2023-12-10T13:09:21.905708100Z"
    }
   },
   "id": "971b6effd5360ac9"
  },
  {
   "cell_type": "code",
   "execution_count": 401,
   "outputs": [
    {
     "name": "stdout",
     "output_type": "stream",
     "text": [
      "Len of positive texts: 114911\n",
      "Len of negative texts: 111923\n"
     ]
    }
   ],
   "source": [
    "print(f'Len of positive texts: {len(pos_texts[3])}')\n",
    "print(f'Len of negative texts: {len(neg_texts[3])}')"
   ],
   "metadata": {
    "collapsed": false,
    "ExecuteTime": {
     "end_time": "2023-12-10T13:09:22.223578500Z",
     "start_time": "2023-12-10T13:09:22.013732600Z"
    }
   },
   "id": "8e9c39099c034e31"
  },
  {
   "cell_type": "code",
   "execution_count": 402,
   "outputs": [],
   "source": [
    "sentences = np.concatenate([pos_texts[3].values, neg_texts[3].values])\n",
    "labels = [[1] for _ in range(pos_texts.shape[0])] + [[0] for _ in range(neg_texts.shape[0])]\n",
    "\n",
    "assert len(sentences) == len(labels) == pos_texts.shape[0] + neg_texts.shape[0]"
   ],
   "metadata": {
    "collapsed": false,
    "ExecuteTime": {
     "end_time": "2023-12-10T13:09:22.729765800Z",
     "start_time": "2023-12-10T13:09:22.113241500Z"
    }
   },
   "id": "c7c025ad5eeb695d"
  },
  {
   "cell_type": "code",
   "execution_count": 403,
   "outputs": [
    {
     "name": "stdout",
     "output_type": "stream",
     "text": [
      "Медведев: \"Партия Единая Россия - это кусок нашей страны\". Ага-ага, говна кусок!)\n"
     ]
    }
   ],
   "source": [
    "print(sentences[666])"
   ],
   "metadata": {
    "collapsed": false,
    "ExecuteTime": {
     "end_time": "2023-12-10T13:09:22.821888200Z",
     "start_time": "2023-12-10T13:09:22.709261800Z"
    }
   },
   "id": "142420ce12308c2"
  },
  {
   "cell_type": "code",
   "execution_count": 404,
   "outputs": [
    {
     "data": {
      "text/plain": "(136100, 45367, 45367)"
     },
     "execution_count": 404,
     "metadata": {},
     "output_type": "execute_result"
    }
   ],
   "source": [
    "train_sentences, test_sentences, train_labels, test_labels = train_test_split(\n",
    "    sentences, \n",
    "    labels,\n",
    "    test_size=0.2,\n",
    "    shuffle=True,\n",
    "    random_state=SEED\n",
    ")\n",
    "\n",
    "train_sentences, validation_sentences, train_labels, validation_labels = train_test_split(\n",
    "    train_sentences,\n",
    "    train_labels,\n",
    "    test_size=0.25,\n",
    "    shuffle=True,\n",
    "    random_state=SEED\n",
    ")\n",
    "\n",
    "len(train_sentences), len(validation_sentences), len(test_sentences)"
   ],
   "metadata": {
    "collapsed": false,
    "ExecuteTime": {
     "end_time": "2023-12-10T13:09:23.068882Z",
     "start_time": "2023-12-10T13:09:22.809541800Z"
    }
   },
   "id": "96c25cb5eb56de11"
  },
  {
   "cell_type": "code",
   "execution_count": 405,
   "outputs": [],
   "source": [
    "train_labels = torch.tensor(train_labels)\n",
    "validation_labels = torch.tensor(validation_labels)\n",
    "test_labels = torch.tensor(test_labels)"
   ],
   "metadata": {
    "collapsed": false,
    "ExecuteTime": {
     "end_time": "2023-12-10T13:09:23.340766200Z",
     "start_time": "2023-12-10T13:09:23.056887200Z"
    }
   },
   "id": "182ef576290b03b1"
  },
  {
   "cell_type": "code",
   "execution_count": 406,
   "outputs": [],
   "source": [
    "batch_size = 256\n",
    "max_length = 50\n",
    "\n",
    "train_dataset = EmotionDataset(train_sentences, tokenizer, labels=train_labels, max_length=max_length)\n",
    "train_dataloader = DataLoader(\n",
    "    dataset=train_dataset, \n",
    "    batch_size=batch_size, \n",
    "    shuffle=False, \n",
    "    sampler=RandomSampler(train_dataset)\n",
    ")"
   ],
   "metadata": {
    "collapsed": false,
    "ExecuteTime": {
     "end_time": "2023-12-10T13:09:23.442048900Z",
     "start_time": "2023-12-10T13:09:23.335606400Z"
    }
   },
   "id": "273ac7ce6943aca5"
  },
  {
   "cell_type": "code",
   "execution_count": 407,
   "outputs": [],
   "source": [
    "validation_dataset = EmotionDataset(validation_sentences, tokenizer, labels=validation_labels, max_length=max_length)\n",
    "validation_dataloader = DataLoader(\n",
    "    dataset=validation_dataset,\n",
    "    batch_size=batch_size,\n",
    "    shuffle=False,\n",
    "    sampler=SequentialSampler(validation_dataset)\n",
    ")"
   ],
   "metadata": {
    "collapsed": false,
    "ExecuteTime": {
     "end_time": "2023-12-10T13:09:23.556129100Z",
     "start_time": "2023-12-10T13:09:23.442048900Z"
    }
   },
   "id": "b14cf239f23b1002"
  },
  {
   "cell_type": "code",
   "execution_count": 408,
   "outputs": [],
   "source": [
    "test_dataset = EmotionDataset(test_sentences, tokenizer, labels=test_labels, max_length=max_length)\n",
    "test_dataloader = DataLoader(\n",
    "    dataset=test_dataset, \n",
    "    batch_size=batch_size,\n",
    "    shuffle=False,\n",
    "    sampler=SequentialSampler(test_dataset)\n",
    ")"
   ],
   "metadata": {
    "collapsed": false,
    "ExecuteTime": {
     "end_time": "2023-12-10T13:09:23.654674600Z",
     "start_time": "2023-12-10T13:09:23.542114700Z"
    }
   },
   "id": "8fd6ccd01b70282e"
  },
  {
   "cell_type": "code",
   "execution_count": 409,
   "outputs": [],
   "source": [
    "device = torch.device('cuda' if torch.cuda.is_available() else 'cpu')\n",
    "\n",
    "num_labels = 2\n",
    "learning_rate = 5e-4\n",
    "num_epoch = 5\n",
    "scheduler_patience = 2\n",
    "early_stopping_patience = 3"
   ],
   "metadata": {
    "collapsed": false,
    "ExecuteTime": {
     "end_time": "2023-12-10T13:09:23.751000900Z",
     "start_time": "2023-12-10T13:09:23.647437400Z"
    }
   },
   "id": "2ebc2e367e3d68bf"
  },
  {
   "cell_type": "code",
   "execution_count": 410,
   "outputs": [
    {
     "name": "stderr",
     "output_type": "stream",
     "text": [
      "Some weights of BertForSequenceClassification were not initialized from the model checkpoint at cointegrated/rubert-tiny2 and are newly initialized: ['classifier.weight', 'classifier.bias']\n",
      "You should probably TRAIN this model on a down-stream task to be able to use it for predictions and inference.\n"
     ]
    }
   ],
   "source": [
    "model = BertForSequenceClassification.from_pretrained(model_name)"
   ],
   "metadata": {
    "collapsed": false,
    "ExecuteTime": {
     "end_time": "2023-12-10T13:09:24.491585700Z",
     "start_time": "2023-12-10T13:09:23.748857800Z"
    }
   },
   "id": "1ce175fb51c2d177"
  },
  {
   "cell_type": "code",
   "execution_count": 411,
   "outputs": [
    {
     "name": "stdout",
     "output_type": "stream",
     "text": [
      "Num of teachable parameters before freezing: 29194394\n",
      "Num of teachable parameters after freezing: 626\n"
     ]
    }
   ],
   "source": [
    "print(f'Num of teachable parameters before freezing: {count_parameters(model)}')\n",
    "\n",
    "for param in model.parameters():\n",
    "    param.requires_grad = False\n",
    "    \n",
    "model.classifier = nn.Linear(model.classifier.in_features, out_features=num_labels, bias=True)\n",
    "\n",
    "print(f'Num of teachable parameters after freezing: {count_parameters(model)}')"
   ],
   "metadata": {
    "collapsed": false,
    "ExecuteTime": {
     "end_time": "2023-12-10T13:09:24.608750600Z",
     "start_time": "2023-12-10T13:09:24.492683100Z"
    }
   },
   "id": "b230b78278a761af"
  },
  {
   "cell_type": "code",
   "execution_count": 412,
   "outputs": [],
   "source": [
    "torch.cuda.empty_cache()"
   ],
   "metadata": {
    "collapsed": false,
    "ExecuteTime": {
     "end_time": "2023-12-10T13:09:24.720830800Z",
     "start_time": "2023-12-10T13:09:24.606656500Z"
    }
   },
   "id": "9c0f7234eaaac9b4"
  },
  {
   "cell_type": "code",
   "execution_count": 413,
   "outputs": [],
   "source": [
    "model = model.to(device)\n",
    "\n",
    "optimizer = torch.optim.AdamW(model.parameters(), lr=learning_rate)\n",
    "scheduler = torch.optim.lr_scheduler.ReduceLROnPlateau(optimizer,\n",
    "                                                       patience=scheduler_patience,\n",
    "                                                       verbose=True)"
   ],
   "metadata": {
    "collapsed": false,
    "ExecuteTime": {
     "end_time": "2023-12-10T13:09:24.920154700Z",
     "start_time": "2023-12-10T13:09:24.716903200Z"
    }
   },
   "id": "d5bc4aa0aa184da8"
  },
  {
   "cell_type": "code",
   "execution_count": 414,
   "outputs": [],
   "source": [
    "if TRAIN_MODEL:\n",
    "    best_model, history_loss_train, history_loss_valid = train_eval_loop(\n",
    "        model,\n",
    "        train_dataloader,\n",
    "        validation_dataloader,\n",
    "        optimizer,\n",
    "        epoch_n=num_epoch,\n",
    "        device=device,\n",
    "        early_stopping_patience=early_stopping_patience,\n",
    "        scheduler=scheduler\n",
    "    )\n",
    "\n",
    "    plt.plot(history_loss_train, label='Train loss')\n",
    "    plt.plot(history_loss_valid, label='Valid loss')\n",
    "    plt.legend(loc='upper right')\n",
    "    plt.show()\n",
    "else:\n",
    "    model.load_state_dict(torch.load(PATH_MODEL, map_location=device))"
   ],
   "metadata": {
    "collapsed": false,
    "ExecuteTime": {
     "end_time": "2023-12-10T13:09:25.166966800Z",
     "start_time": "2023-12-10T13:09:24.921225700Z"
    }
   },
   "id": "9033f343e152447c"
  },
  {
   "cell_type": "code",
   "execution_count": 415,
   "outputs": [
    {
     "name": "stderr",
     "output_type": "stream",
     "text": [
      "100%|\u001B[32m██████████\u001B[0m| 178/178 [00:38<00:00,  4.68it/s]"
     ]
    },
    {
     "name": "stdout",
     "output_type": "stream",
     "text": [
      "Recall: 0.8881\n",
      "Precision: 0.8546\n",
      "Accuracy: 0.8661\n"
     ]
    },
    {
     "name": "stderr",
     "output_type": "stream",
     "text": [
      "\n"
     ]
    }
   ],
   "source": [
    "y_pred, y_true = predict_with_model(\n",
    "    model,\n",
    "    test_dataloader,\n",
    "    device=device,\n",
    "    use_sigmoid=True,\n",
    "    return_labels=True\n",
    ")\n",
    "\n",
    "metrics_score = calculate_metrics(y_true, y_pred)\n",
    "print(f'Recall: {metrics_score[0]:1.4f}\\n'\n",
    "      f'Precision: {metrics_score[1]:1.4f}\\n'\n",
    "      f'Accuracy: {metrics_score[2]:1.4f}\\n')"
   ],
   "metadata": {
    "collapsed": false,
    "ExecuteTime": {
     "end_time": "2023-12-10T13:10:03.321212300Z",
     "start_time": "2023-12-10T13:09:25.168583300Z"
    }
   },
   "id": "bbc9e6e1e8eb3cbc"
  },
  {
   "cell_type": "code",
   "execution_count": 416,
   "outputs": [],
   "source": [
    "if TRAIN_MODEL: \n",
    "    torch.save(best_model.state_dict(), PATH_MODEL)"
   ],
   "metadata": {
    "collapsed": false,
    "ExecuteTime": {
     "end_time": "2023-12-10T13:10:03.483265500Z",
     "start_time": "2023-12-10T13:10:03.321212300Z"
    }
   },
   "id": "77509c7b1ad9b316"
  }
 ],
 "metadata": {
  "kernelspec": {
   "display_name": "Python 3",
   "language": "python",
   "name": "python3"
  },
  "language_info": {
   "codemirror_mode": {
    "name": "ipython",
    "version": 2
   },
   "file_extension": ".py",
   "mimetype": "text/x-python",
   "name": "python",
   "nbconvert_exporter": "python",
   "pygments_lexer": "ipython2",
   "version": "2.7.6"
  }
 },
 "nbformat": 4,
 "nbformat_minor": 5
}
