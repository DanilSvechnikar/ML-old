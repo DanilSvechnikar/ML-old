{
 "cells": [
  {
   "cell_type": "code",
   "execution_count": 133,
   "id": "initial_id",
   "metadata": {
    "collapsed": true,
    "ExecuteTime": {
     "end_time": "2023-12-05T21:05:14.050610100Z",
     "start_time": "2023-12-05T21:05:13.925243500Z"
    }
   },
   "outputs": [
    {
     "name": "stdout",
     "output_type": "stream",
     "text": [
      "The autoreload extension is already loaded. To reload it, use:\n",
      "  %reload_ext autoreload\n"
     ]
    }
   ],
   "source": [
    "%load_ext autoreload\n",
    "%autoreload 2\n",
    "\n",
    "import pandas as pd\n",
    "import numpy as np\n",
    "import pickle\n",
    "\n",
    "from sklearn.model_selection import train_test_split\n",
    "from sklearn.preprocessing import LabelEncoder\n",
    "\n",
    "from sklearn.metrics import accuracy_score\n",
    "from sklearn.metrics import roc_auc_score\n",
    "\n",
    "from xgboost import XGBClassifier\n",
    "from gensim.models import Word2Vec\n",
    "\n",
    "import seaborn as sns\n",
    "import matplotlib.pyplot as plt\n",
    "\n",
    "from utils import init_random_seed, tokenize_corpus, document_vectorizer"
   ]
  },
  {
   "cell_type": "code",
   "execution_count": 134,
   "outputs": [],
   "source": [
    "SEED = 1\n",
    "TRAIN_MODEL = False # if True, then train model and save it. if False, just load it\n",
    "PATH_MODEL = \"./Pre-trained Models/word2vec_xgb_request_category.pkl\"\n",
    "PATH_DATASET = './Data/Dataset_cleaned.csv'"
   ],
   "metadata": {
    "collapsed": false,
    "ExecuteTime": {
     "end_time": "2023-12-05T21:05:14.175844800Z",
     "start_time": "2023-12-05T21:05:14.059527300Z"
    }
   },
   "id": "2fd53b4fc12d34e7"
  },
  {
   "cell_type": "code",
   "execution_count": null,
   "outputs": [],
   "source": [
    "init_random_seed(SEED)"
   ],
   "metadata": {
    "collapsed": false
   },
   "id": "d0eef4a51b52a3b8"
  },
  {
   "cell_type": "code",
   "execution_count": 135,
   "outputs": [
    {
     "data": {
      "text/plain": "                          Request category  \\\n0               Благоустройство территории   \n1               Благоустройство территории   \n2  Содержание и ремонт муниципальных дорог   \n3               Благоустройство территории   \n4  Содержание и ремонт муниципальных дорог   \n\n                             Application description  \n0  На трассе Нижнекамск-Чистополь в лесополосе у ...  \n1  Во дворе дома Ленинградская 29 отсутствуют пар...  \n2  Добрый день! Не осуществляется уборка снега в ...  \n3  Добрый день! Не осуществляется вывоз мусора с ...  \n4  на данном участке проезжей части от ул.Халитов...  ",
      "text/html": "<div>\n<style scoped>\n    .dataframe tbody tr th:only-of-type {\n        vertical-align: middle;\n    }\n\n    .dataframe tbody tr th {\n        vertical-align: top;\n    }\n\n    .dataframe thead th {\n        text-align: right;\n    }\n</style>\n<table border=\"1\" class=\"dataframe\">\n  <thead>\n    <tr style=\"text-align: right;\">\n      <th></th>\n      <th>Request category</th>\n      <th>Application description</th>\n    </tr>\n  </thead>\n  <tbody>\n    <tr>\n      <th>0</th>\n      <td>Благоустройство территории</td>\n      <td>На трассе Нижнекамск-Чистополь в лесополосе у ...</td>\n    </tr>\n    <tr>\n      <th>1</th>\n      <td>Благоустройство территории</td>\n      <td>Во дворе дома Ленинградская 29 отсутствуют пар...</td>\n    </tr>\n    <tr>\n      <th>2</th>\n      <td>Содержание и ремонт муниципальных дорог</td>\n      <td>Добрый день! Не осуществляется уборка снега в ...</td>\n    </tr>\n    <tr>\n      <th>3</th>\n      <td>Благоустройство территории</td>\n      <td>Добрый день! Не осуществляется вывоз мусора с ...</td>\n    </tr>\n    <tr>\n      <th>4</th>\n      <td>Содержание и ремонт муниципальных дорог</td>\n      <td>на данном участке проезжей части от ул.Халитов...</td>\n    </tr>\n  </tbody>\n</table>\n</div>"
     },
     "execution_count": 135,
     "metadata": {},
     "output_type": "execute_result"
    }
   ],
   "source": [
    "dataset = pd.read_csv(PATH_DATASET).iloc[:, :2]\n",
    "dataset.head()"
   ],
   "metadata": {
    "collapsed": false,
    "ExecuteTime": {
     "end_time": "2023-12-05T21:05:14.498793200Z",
     "start_time": "2023-12-05T21:05:14.175844800Z"
    }
   },
   "id": "40734c87b73e246c"
  },
  {
   "cell_type": "code",
   "execution_count": 136,
   "outputs": [
    {
     "name": "stdout",
     "output_type": "stream",
     "text": [
      "Unique classes of the variable Request category: 26\n"
     ]
    }
   ],
   "source": [
    "request_category_int = LabelEncoder().fit_transform(dataset['Request category'])\n",
    "print(f\"Unique classes of the variable Request category: {len(dataset['Request category'].unique())}\")"
   ],
   "metadata": {
    "collapsed": false,
    "ExecuteTime": {
     "end_time": "2023-12-05T21:05:14.655967200Z",
     "start_time": "2023-12-05T21:05:14.498793200Z"
    }
   },
   "id": "2a5f34f0068c7ef5"
  },
  {
   "cell_type": "code",
   "execution_count": 137,
   "outputs": [],
   "source": [
    "dataset['Application description'] = tokenize_corpus(dataset['Application description'], min_token_size=4)"
   ],
   "metadata": {
    "collapsed": false,
    "ExecuteTime": {
     "end_time": "2023-12-05T21:05:15.100804500Z",
     "start_time": "2023-12-05T21:05:14.624693500Z"
    }
   },
   "id": "850f4b297b0a6e06"
  },
  {
   "cell_type": "code",
   "execution_count": 138,
   "outputs": [
    {
     "data": {
      "text/plain": "((17380,), (7449,))"
     },
     "execution_count": 138,
     "metadata": {},
     "output_type": "execute_result"
    }
   ],
   "source": [
    "X_train, X_test, y_train, y_test = train_test_split(\n",
    "    dataset['Application description'],\n",
    "    request_category_int,\n",
    "    test_size=0.3,\n",
    "    shuffle=True,\n",
    "    stratify=request_category_int,\n",
    "    random_state=SEED\n",
    ")\n",
    "\n",
    "X_train.shape, X_test.shape"
   ],
   "metadata": {
    "collapsed": false,
    "ExecuteTime": {
     "end_time": "2023-12-05T21:05:15.229421900Z",
     "start_time": "2023-12-05T21:05:15.100804500Z"
    }
   },
   "id": "d7cdea00f35453d0"
  },
  {
   "cell_type": "code",
   "execution_count": 139,
   "outputs": [],
   "source": [
    "word2vec = Word2Vec(\n",
    "    sentences=X_train,\n",
    "    vector_size=50,\n",
    "    window=5,\n",
    "    min_count=5,\n",
    "    sg=1,\n",
    "    epochs=10,\n",
    "    seed=SEED\n",
    ")"
   ],
   "metadata": {
    "collapsed": false,
    "ExecuteTime": {
     "end_time": "2023-12-05T21:05:20.404057800Z",
     "start_time": "2023-12-05T21:05:15.229421900Z"
    }
   },
   "id": "dd4ce701a0f67666"
  },
  {
   "cell_type": "code",
   "execution_count": 140,
   "outputs": [],
   "source": [
    "X_train = np.array([document_vectorizer(doc, word2vec) for doc in X_train])\n",
    "X_test = np.array([document_vectorizer(doc, word2vec) for doc in X_test])"
   ],
   "metadata": {
    "collapsed": false,
    "ExecuteTime": {
     "end_time": "2023-12-05T21:05:22.087949400Z",
     "start_time": "2023-12-05T21:05:20.404057800Z"
    }
   },
   "id": "ac841a62c15da435"
  },
  {
   "cell_type": "code",
   "execution_count": 141,
   "outputs": [
    {
     "data": {
      "text/plain": "<Figure size 500x500 with 1 Axes>",
      "image/png": "[encoded data removed]"
     },
     "metadata": {},
     "output_type": "display_data"
    }
   ],
   "source": [
    "sns.displot(request_category_int, color='green')\n",
    "plt.xlabel('Num Classes')\n",
    "plt.title('Class Distribution');"
   ],
   "metadata": {
    "collapsed": false,
    "ExecuteTime": {
     "end_time": "2023-12-05T21:05:22.696702100Z",
     "start_time": "2023-12-05T21:05:22.087949400Z"
    }
   },
   "id": "3bf1e0e8bd4bed53"
  },
  {
   "cell_type": "code",
   "execution_count": 142,
   "outputs": [
    {
     "name": "stdout",
     "output_type": "stream",
     "text": [
      "[0]\tvalidation_0-merror:0.34797\tvalidation_0-auc:0.81349\n",
      "[1]\tvalidation_0-merror:0.32783\tvalidation_0-auc:0.83811\n",
      "[2]\tvalidation_0-merror:0.31414\tvalidation_0-auc:0.85117\n",
      "[3]\tvalidation_0-merror:0.30581\tvalidation_0-auc:0.86011\n",
      "[4]\tvalidation_0-merror:0.30179\tvalidation_0-auc:0.86578\n",
      "[5]\tvalidation_0-merror:0.29856\tvalidation_0-auc:0.87026\n",
      "[6]\tvalidation_0-merror:0.29574\tvalidation_0-auc:0.87358\n",
      "[7]\tvalidation_0-merror:0.29427\tvalidation_0-auc:0.87655\n",
      "[8]\tvalidation_0-merror:0.29199\tvalidation_0-auc:0.87867\n",
      "[9]\tvalidation_0-merror:0.28957\tvalidation_0-auc:0.88056\n",
      "[10]\tvalidation_0-merror:0.28662\tvalidation_0-auc:0.88258\n",
      "[11]\tvalidation_0-merror:0.28393\tvalidation_0-auc:0.88443\n",
      "[12]\tvalidation_0-merror:0.28353\tvalidation_0-auc:0.88593\n",
      "[13]\tvalidation_0-merror:0.28192\tvalidation_0-auc:0.88708\n",
      "[14]\tvalidation_0-merror:0.28084\tvalidation_0-auc:0.88811\n",
      "[15]\tvalidation_0-merror:0.27937\tvalidation_0-auc:0.88915\n",
      "[16]\tvalidation_0-merror:0.27856\tvalidation_0-auc:0.89000\n",
      "[17]\tvalidation_0-merror:0.27749\tvalidation_0-auc:0.89098\n",
      "[18]\tvalidation_0-merror:0.27467\tvalidation_0-auc:0.89206\n",
      "[19]\tvalidation_0-merror:0.27480\tvalidation_0-auc:0.89286\n",
      "[20]\tvalidation_0-merror:0.27507\tvalidation_0-auc:0.89362\n",
      "[21]\tvalidation_0-merror:0.27413\tvalidation_0-auc:0.89415\n",
      "[22]\tvalidation_0-merror:0.27292\tvalidation_0-auc:0.89483\n",
      "[23]\tvalidation_0-merror:0.27118\tvalidation_0-auc:0.89583\n",
      "[24]\tvalidation_0-merror:0.27104\tvalidation_0-auc:0.89663\n",
      "[25]\tvalidation_0-merror:0.26997\tvalidation_0-auc:0.89725\n",
      "[26]\tvalidation_0-merror:0.26943\tvalidation_0-auc:0.89793\n",
      "[27]\tvalidation_0-merror:0.26903\tvalidation_0-auc:0.89848\n",
      "[28]\tvalidation_0-merror:0.26728\tvalidation_0-auc:0.89921\n",
      "[29]\tvalidation_0-merror:0.26634\tvalidation_0-auc:0.89976\n",
      "[30]\tvalidation_0-merror:0.26567\tvalidation_0-auc:0.90028\n",
      "[31]\tvalidation_0-merror:0.26433\tvalidation_0-auc:0.90096\n",
      "[32]\tvalidation_0-merror:0.26285\tvalidation_0-auc:0.90152\n",
      "[33]\tvalidation_0-merror:0.26205\tvalidation_0-auc:0.90195\n",
      "[34]\tvalidation_0-merror:0.26124\tvalidation_0-auc:0.90247\n",
      "[35]\tvalidation_0-merror:0.26097\tvalidation_0-auc:0.90293\n",
      "[36]\tvalidation_0-merror:0.25910\tvalidation_0-auc:0.90341\n",
      "[37]\tvalidation_0-merror:0.25936\tvalidation_0-auc:0.90382\n",
      "[38]\tvalidation_0-merror:0.25936\tvalidation_0-auc:0.90424\n",
      "[39]\tvalidation_0-merror:0.25883\tvalidation_0-auc:0.90455\n",
      "[40]\tvalidation_0-merror:0.25681\tvalidation_0-auc:0.90497\n",
      "[41]\tvalidation_0-merror:0.25708\tvalidation_0-auc:0.90528\n",
      "[42]\tvalidation_0-merror:0.25654\tvalidation_0-auc:0.90561\n",
      "[43]\tvalidation_0-merror:0.25493\tvalidation_0-auc:0.90585\n",
      "[44]\tvalidation_0-merror:0.25534\tvalidation_0-auc:0.90621\n",
      "[45]\tvalidation_0-merror:0.25507\tvalidation_0-auc:0.90653\n",
      "[46]\tvalidation_0-merror:0.25547\tvalidation_0-auc:0.90686\n",
      "[47]\tvalidation_0-merror:0.25467\tvalidation_0-auc:0.90725\n",
      "[48]\tvalidation_0-merror:0.25319\tvalidation_0-auc:0.90765\n",
      "[49]\tvalidation_0-merror:0.25399\tvalidation_0-auc:0.90794\n",
      "[50]\tvalidation_0-merror:0.25346\tvalidation_0-auc:0.90828\n",
      "[51]\tvalidation_0-merror:0.25292\tvalidation_0-auc:0.90862\n",
      "[52]\tvalidation_0-merror:0.25211\tvalidation_0-auc:0.90891\n",
      "[53]\tvalidation_0-merror:0.25104\tvalidation_0-auc:0.90916\n",
      "[54]\tvalidation_0-merror:0.25198\tvalidation_0-auc:0.90941\n",
      "[55]\tvalidation_0-merror:0.25117\tvalidation_0-auc:0.90959\n",
      "[56]\tvalidation_0-merror:0.25091\tvalidation_0-auc:0.90986\n",
      "[57]\tvalidation_0-merror:0.25131\tvalidation_0-auc:0.91013\n",
      "[58]\tvalidation_0-merror:0.25091\tvalidation_0-auc:0.91049\n",
      "[59]\tvalidation_0-merror:0.25064\tvalidation_0-auc:0.91074\n",
      "[60]\tvalidation_0-merror:0.25064\tvalidation_0-auc:0.91101\n",
      "[61]\tvalidation_0-merror:0.25064\tvalidation_0-auc:0.91121\n",
      "[62]\tvalidation_0-merror:0.24970\tvalidation_0-auc:0.91142\n",
      "[63]\tvalidation_0-merror:0.24876\tvalidation_0-auc:0.91166\n",
      "[64]\tvalidation_0-merror:0.24862\tvalidation_0-auc:0.91182\n",
      "[65]\tvalidation_0-merror:0.24768\tvalidation_0-auc:0.91212\n",
      "[66]\tvalidation_0-merror:0.24688\tvalidation_0-auc:0.91238\n",
      "[67]\tvalidation_0-merror:0.24755\tvalidation_0-auc:0.91262\n",
      "[68]\tvalidation_0-merror:0.24795\tvalidation_0-auc:0.91283\n",
      "[69]\tvalidation_0-merror:0.24701\tvalidation_0-auc:0.91303\n",
      "[70]\tvalidation_0-merror:0.24554\tvalidation_0-auc:0.91320\n",
      "[71]\tvalidation_0-merror:0.24567\tvalidation_0-auc:0.91339\n",
      "[72]\tvalidation_0-merror:0.24460\tvalidation_0-auc:0.91363\n",
      "[73]\tvalidation_0-merror:0.24366\tvalidation_0-auc:0.91382\n",
      "[74]\tvalidation_0-merror:0.24245\tvalidation_0-auc:0.91408\n",
      "[75]\tvalidation_0-merror:0.24272\tvalidation_0-auc:0.91428\n",
      "[76]\tvalidation_0-merror:0.24245\tvalidation_0-auc:0.91439\n",
      "[77]\tvalidation_0-merror:0.24272\tvalidation_0-auc:0.91449\n",
      "[78]\tvalidation_0-merror:0.24245\tvalidation_0-auc:0.91470\n",
      "[79]\tvalidation_0-merror:0.24258\tvalidation_0-auc:0.91480\n",
      "[80]\tvalidation_0-merror:0.24285\tvalidation_0-auc:0.91500\n",
      "[81]\tvalidation_0-merror:0.24205\tvalidation_0-auc:0.91514\n",
      "[82]\tvalidation_0-merror:0.24164\tvalidation_0-auc:0.91532\n",
      "[83]\tvalidation_0-merror:0.24231\tvalidation_0-auc:0.91540\n",
      "[84]\tvalidation_0-merror:0.24231\tvalidation_0-auc:0.91556\n",
      "[85]\tvalidation_0-merror:0.24111\tvalidation_0-auc:0.91572\n",
      "[86]\tvalidation_0-merror:0.24178\tvalidation_0-auc:0.91587\n",
      "[87]\tvalidation_0-merror:0.24164\tvalidation_0-auc:0.91602\n",
      "[88]\tvalidation_0-merror:0.24017\tvalidation_0-auc:0.91619\n",
      "[89]\tvalidation_0-merror:0.24030\tvalidation_0-auc:0.91632\n",
      "[90]\tvalidation_0-merror:0.23976\tvalidation_0-auc:0.91646\n",
      "[91]\tvalidation_0-merror:0.23909\tvalidation_0-auc:0.91658\n",
      "[92]\tvalidation_0-merror:0.23856\tvalidation_0-auc:0.91674\n",
      "[93]\tvalidation_0-merror:0.23869\tvalidation_0-auc:0.91680\n",
      "[94]\tvalidation_0-merror:0.23950\tvalidation_0-auc:0.91688\n",
      "[95]\tvalidation_0-merror:0.24003\tvalidation_0-auc:0.91698\n",
      "[96]\tvalidation_0-merror:0.23976\tvalidation_0-auc:0.91709\n",
      "[97]\tvalidation_0-merror:0.23950\tvalidation_0-auc:0.91721\n",
      "[98]\tvalidation_0-merror:0.23936\tvalidation_0-auc:0.91728\n",
      "[99]\tvalidation_0-merror:0.23869\tvalidation_0-auc:0.91742\n",
      "[100]\tvalidation_0-merror:0.23842\tvalidation_0-auc:0.91758\n",
      "[101]\tvalidation_0-merror:0.23788\tvalidation_0-auc:0.91761\n",
      "[102]\tvalidation_0-merror:0.23735\tvalidation_0-auc:0.91770\n",
      "[103]\tvalidation_0-merror:0.23775\tvalidation_0-auc:0.91782\n",
      "[104]\tvalidation_0-merror:0.23735\tvalidation_0-auc:0.91797\n",
      "[105]\tvalidation_0-merror:0.23641\tvalidation_0-auc:0.91807\n",
      "[106]\tvalidation_0-merror:0.23600\tvalidation_0-auc:0.91820\n",
      "[107]\tvalidation_0-merror:0.23614\tvalidation_0-auc:0.91829\n",
      "[108]\tvalidation_0-merror:0.23654\tvalidation_0-auc:0.91842\n",
      "[109]\tvalidation_0-merror:0.23587\tvalidation_0-auc:0.91856\n",
      "[110]\tvalidation_0-merror:0.23560\tvalidation_0-auc:0.91860\n",
      "[111]\tvalidation_0-merror:0.23654\tvalidation_0-auc:0.91872\n",
      "[112]\tvalidation_0-merror:0.23587\tvalidation_0-auc:0.91877\n",
      "[113]\tvalidation_0-merror:0.23574\tvalidation_0-auc:0.91884\n",
      "[114]\tvalidation_0-merror:0.23560\tvalidation_0-auc:0.91893\n",
      "[115]\tvalidation_0-merror:0.23533\tvalidation_0-auc:0.91907\n",
      "[116]\tvalidation_0-merror:0.23533\tvalidation_0-auc:0.91911\n",
      "[117]\tvalidation_0-merror:0.23547\tvalidation_0-auc:0.91927\n",
      "[118]\tvalidation_0-merror:0.23560\tvalidation_0-auc:0.91934\n",
      "[119]\tvalidation_0-merror:0.23587\tvalidation_0-auc:0.91943\n",
      "[120]\tvalidation_0-merror:0.23574\tvalidation_0-auc:0.91948\n",
      "[121]\tvalidation_0-merror:0.23574\tvalidation_0-auc:0.91954\n",
      "[122]\tvalidation_0-merror:0.23493\tvalidation_0-auc:0.91965\n",
      "[123]\tvalidation_0-merror:0.23480\tvalidation_0-auc:0.91970\n",
      "[124]\tvalidation_0-merror:0.23466\tvalidation_0-auc:0.91982\n",
      "[125]\tvalidation_0-merror:0.23533\tvalidation_0-auc:0.91986\n",
      "[126]\tvalidation_0-merror:0.23520\tvalidation_0-auc:0.91992\n",
      "[127]\tvalidation_0-merror:0.23453\tvalidation_0-auc:0.91994\n",
      "[128]\tvalidation_0-merror:0.23399\tvalidation_0-auc:0.91999\n",
      "[129]\tvalidation_0-merror:0.23507\tvalidation_0-auc:0.92005\n",
      "[130]\tvalidation_0-merror:0.23600\tvalidation_0-auc:0.92016\n",
      "[131]\tvalidation_0-merror:0.23547\tvalidation_0-auc:0.92018\n",
      "[132]\tvalidation_0-merror:0.23627\tvalidation_0-auc:0.92021\n",
      "[133]\tvalidation_0-merror:0.23533\tvalidation_0-auc:0.92024\n",
      "[134]\tvalidation_0-merror:0.23507\tvalidation_0-auc:0.92034\n",
      "[135]\tvalidation_0-merror:0.23533\tvalidation_0-auc:0.92035\n",
      "[136]\tvalidation_0-merror:0.23560\tvalidation_0-auc:0.92041\n",
      "[137]\tvalidation_0-merror:0.23574\tvalidation_0-auc:0.92045\n",
      "[138]\tvalidation_0-merror:0.23507\tvalidation_0-auc:0.92050\n",
      "[139]\tvalidation_0-merror:0.23507\tvalidation_0-auc:0.92059\n",
      "[140]\tvalidation_0-merror:0.23493\tvalidation_0-auc:0.92056\n",
      "[141]\tvalidation_0-merror:0.23547\tvalidation_0-auc:0.92064\n",
      "[142]\tvalidation_0-merror:0.23466\tvalidation_0-auc:0.92068\n",
      "[143]\tvalidation_0-merror:0.23480\tvalidation_0-auc:0.92071\n",
      "[144]\tvalidation_0-merror:0.23493\tvalidation_0-auc:0.92076\n",
      "[145]\tvalidation_0-merror:0.23533\tvalidation_0-auc:0.92080\n",
      "[146]\tvalidation_0-merror:0.23520\tvalidation_0-auc:0.92084\n",
      "[147]\tvalidation_0-merror:0.23547\tvalidation_0-auc:0.92089\n",
      "[148]\tvalidation_0-merror:0.23533\tvalidation_0-auc:0.92095\n",
      "[149]\tvalidation_0-merror:0.23493\tvalidation_0-auc:0.92098\n",
      "[150]\tvalidation_0-merror:0.23507\tvalidation_0-auc:0.92100\n",
      "[151]\tvalidation_0-merror:0.23480\tvalidation_0-auc:0.92108\n",
      "[152]\tvalidation_0-merror:0.23453\tvalidation_0-auc:0.92114\n",
      "[153]\tvalidation_0-merror:0.23493\tvalidation_0-auc:0.92123\n",
      "[154]\tvalidation_0-merror:0.23413\tvalidation_0-auc:0.92121\n",
      "[155]\tvalidation_0-merror:0.23359\tvalidation_0-auc:0.92129\n",
      "[156]\tvalidation_0-merror:0.23332\tvalidation_0-auc:0.92132\n",
      "[157]\tvalidation_0-merror:0.23372\tvalidation_0-auc:0.92138\n",
      "[158]\tvalidation_0-merror:0.23359\tvalidation_0-auc:0.92138\n",
      "[159]\tvalidation_0-merror:0.23305\tvalidation_0-auc:0.92140\n",
      "[160]\tvalidation_0-merror:0.23359\tvalidation_0-auc:0.92143\n",
      "[161]\tvalidation_0-merror:0.23372\tvalidation_0-auc:0.92147\n",
      "[162]\tvalidation_0-merror:0.23359\tvalidation_0-auc:0.92150\n",
      "[163]\tvalidation_0-merror:0.23372\tvalidation_0-auc:0.92154\n",
      "[164]\tvalidation_0-merror:0.23332\tvalidation_0-auc:0.92160\n",
      "[165]\tvalidation_0-merror:0.23265\tvalidation_0-auc:0.92169\n",
      "[166]\tvalidation_0-merror:0.23332\tvalidation_0-auc:0.92172\n",
      "[167]\tvalidation_0-merror:0.23265\tvalidation_0-auc:0.92180\n",
      "[168]\tvalidation_0-merror:0.23265\tvalidation_0-auc:0.92186\n",
      "[169]\tvalidation_0-merror:0.23305\tvalidation_0-auc:0.92190\n",
      "[170]\tvalidation_0-merror:0.23345\tvalidation_0-auc:0.92186\n",
      "[171]\tvalidation_0-merror:0.23332\tvalidation_0-auc:0.92187\n",
      "[172]\tvalidation_0-merror:0.23345\tvalidation_0-auc:0.92191\n",
      "[173]\tvalidation_0-merror:0.23292\tvalidation_0-auc:0.92202\n",
      "[174]\tvalidation_0-merror:0.23225\tvalidation_0-auc:0.92205\n",
      "[175]\tvalidation_0-merror:0.23238\tvalidation_0-auc:0.92207\n",
      "[176]\tvalidation_0-merror:0.23251\tvalidation_0-auc:0.92212\n",
      "[177]\tvalidation_0-merror:0.23251\tvalidation_0-auc:0.92217\n",
      "[178]\tvalidation_0-merror:0.23171\tvalidation_0-auc:0.92228\n",
      "[179]\tvalidation_0-merror:0.23238\tvalidation_0-auc:0.92239\n",
      "[180]\tvalidation_0-merror:0.23131\tvalidation_0-auc:0.92238\n",
      "[181]\tvalidation_0-merror:0.23131\tvalidation_0-auc:0.92239\n",
      "[182]\tvalidation_0-merror:0.23171\tvalidation_0-auc:0.92245\n",
      "[183]\tvalidation_0-merror:0.23063\tvalidation_0-auc:0.92244\n",
      "[184]\tvalidation_0-merror:0.23050\tvalidation_0-auc:0.92248\n",
      "[185]\tvalidation_0-merror:0.23131\tvalidation_0-auc:0.92248\n",
      "[186]\tvalidation_0-merror:0.23117\tvalidation_0-auc:0.92252\n",
      "[187]\tvalidation_0-merror:0.23104\tvalidation_0-auc:0.92255\n",
      "[188]\tvalidation_0-merror:0.23198\tvalidation_0-auc:0.92257\n",
      "[189]\tvalidation_0-merror:0.23251\tvalidation_0-auc:0.92258\n",
      "[190]\tvalidation_0-merror:0.23251\tvalidation_0-auc:0.92253\n",
      "[191]\tvalidation_0-merror:0.23211\tvalidation_0-auc:0.92255\n",
      "[192]\tvalidation_0-merror:0.23238\tvalidation_0-auc:0.92254\n",
      "[193]\tvalidation_0-merror:0.23184\tvalidation_0-auc:0.92259\n",
      "[194]\tvalidation_0-merror:0.23144\tvalidation_0-auc:0.92261\n",
      "[195]\tvalidation_0-merror:0.23117\tvalidation_0-auc:0.92265\n",
      "[196]\tvalidation_0-merror:0.23104\tvalidation_0-auc:0.92267\n",
      "[197]\tvalidation_0-merror:0.23144\tvalidation_0-auc:0.92272\n",
      "[198]\tvalidation_0-merror:0.23104\tvalidation_0-auc:0.92276\n",
      "[199]\tvalidation_0-merror:0.23117\tvalidation_0-auc:0.92272\n",
      "[200]\tvalidation_0-merror:0.23090\tvalidation_0-auc:0.92283\n",
      "[201]\tvalidation_0-merror:0.23063\tvalidation_0-auc:0.92290\n",
      "[202]\tvalidation_0-merror:0.23077\tvalidation_0-auc:0.92295\n",
      "[203]\tvalidation_0-merror:0.23117\tvalidation_0-auc:0.92298\n",
      "[204]\tvalidation_0-merror:0.23144\tvalidation_0-auc:0.92302\n",
      "[205]\tvalidation_0-merror:0.23104\tvalidation_0-auc:0.92306\n",
      "[206]\tvalidation_0-merror:0.23023\tvalidation_0-auc:0.92305\n",
      "[207]\tvalidation_0-merror:0.22983\tvalidation_0-auc:0.92306\n",
      "[208]\tvalidation_0-merror:0.22970\tvalidation_0-auc:0.92311\n",
      "[209]\tvalidation_0-merror:0.23010\tvalidation_0-auc:0.92311\n",
      "[210]\tvalidation_0-merror:0.22970\tvalidation_0-auc:0.92315\n",
      "[211]\tvalidation_0-merror:0.23063\tvalidation_0-auc:0.92314\n",
      "[212]\tvalidation_0-merror:0.23037\tvalidation_0-auc:0.92311\n",
      "[213]\tvalidation_0-merror:0.23050\tvalidation_0-auc:0.92310\n",
      "[214]\tvalidation_0-merror:0.23037\tvalidation_0-auc:0.92312\n",
      "[215]\tvalidation_0-merror:0.23157\tvalidation_0-auc:0.92308\n",
      "[216]\tvalidation_0-merror:0.23117\tvalidation_0-auc:0.92312\n",
      "[217]\tvalidation_0-merror:0.23050\tvalidation_0-auc:0.92312\n",
      "[218]\tvalidation_0-merror:0.23037\tvalidation_0-auc:0.92314\n",
      "[219]\tvalidation_0-merror:0.23063\tvalidation_0-auc:0.92318\n",
      "[220]\tvalidation_0-merror:0.22970\tvalidation_0-auc:0.92319\n",
      "[221]\tvalidation_0-merror:0.22956\tvalidation_0-auc:0.92321\n",
      "[222]\tvalidation_0-merror:0.22889\tvalidation_0-auc:0.92325\n",
      "[223]\tvalidation_0-merror:0.22889\tvalidation_0-auc:0.92324\n",
      "[224]\tvalidation_0-merror:0.22929\tvalidation_0-auc:0.92328\n",
      "[225]\tvalidation_0-merror:0.22902\tvalidation_0-auc:0.92330\n",
      "[226]\tvalidation_0-merror:0.22916\tvalidation_0-auc:0.92328\n",
      "[227]\tvalidation_0-merror:0.22983\tvalidation_0-auc:0.92325\n",
      "[228]\tvalidation_0-merror:0.22929\tvalidation_0-auc:0.92328\n",
      "[229]\tvalidation_0-merror:0.23010\tvalidation_0-auc:0.92325\n",
      "[230]\tvalidation_0-merror:0.23023\tvalidation_0-auc:0.92327\n",
      "[231]\tvalidation_0-merror:0.22996\tvalidation_0-auc:0.92328\n",
      "[232]\tvalidation_0-merror:0.22956\tvalidation_0-auc:0.92329\n",
      "[233]\tvalidation_0-merror:0.22956\tvalidation_0-auc:0.92328\n",
      "[234]\tvalidation_0-merror:0.22929\tvalidation_0-auc:0.92328\n",
      "[235]\tvalidation_0-merror:0.22916\tvalidation_0-auc:0.92330\n",
      "[236]\tvalidation_0-merror:0.22916\tvalidation_0-auc:0.92327\n",
      "[237]\tvalidation_0-merror:0.22849\tvalidation_0-auc:0.92330\n",
      "[238]\tvalidation_0-merror:0.22862\tvalidation_0-auc:0.92330\n",
      "[239]\tvalidation_0-merror:0.22876\tvalidation_0-auc:0.92334\n",
      "[240]\tvalidation_0-merror:0.22876\tvalidation_0-auc:0.92333\n",
      "[241]\tvalidation_0-merror:0.22916\tvalidation_0-auc:0.92334\n",
      "[242]\tvalidation_0-merror:0.22889\tvalidation_0-auc:0.92339\n",
      "[243]\tvalidation_0-merror:0.22849\tvalidation_0-auc:0.92338\n",
      "[244]\tvalidation_0-merror:0.22862\tvalidation_0-auc:0.92341\n",
      "[245]\tvalidation_0-merror:0.22889\tvalidation_0-auc:0.92346\n",
      "[246]\tvalidation_0-merror:0.22849\tvalidation_0-auc:0.92349\n",
      "[247]\tvalidation_0-merror:0.22835\tvalidation_0-auc:0.92346\n",
      "[248]\tvalidation_0-merror:0.22808\tvalidation_0-auc:0.92347\n",
      "[249]\tvalidation_0-merror:0.22835\tvalidation_0-auc:0.92345\n",
      "[250]\tvalidation_0-merror:0.22795\tvalidation_0-auc:0.92351\n",
      "[251]\tvalidation_0-merror:0.22862\tvalidation_0-auc:0.92355\n",
      "[252]\tvalidation_0-merror:0.22808\tvalidation_0-auc:0.92363\n",
      "[253]\tvalidation_0-merror:0.22795\tvalidation_0-auc:0.92366\n",
      "[254]\tvalidation_0-merror:0.22822\tvalidation_0-auc:0.92370\n",
      "[255]\tvalidation_0-merror:0.22822\tvalidation_0-auc:0.92370\n",
      "[256]\tvalidation_0-merror:0.22876\tvalidation_0-auc:0.92373\n",
      "[257]\tvalidation_0-merror:0.22849\tvalidation_0-auc:0.92373\n",
      "[258]\tvalidation_0-merror:0.22835\tvalidation_0-auc:0.92374\n",
      "[259]\tvalidation_0-merror:0.22795\tvalidation_0-auc:0.92373\n",
      "[260]\tvalidation_0-merror:0.22768\tvalidation_0-auc:0.92376\n",
      "[261]\tvalidation_0-merror:0.22768\tvalidation_0-auc:0.92377\n",
      "[262]\tvalidation_0-merror:0.22795\tvalidation_0-auc:0.92378\n",
      "[263]\tvalidation_0-merror:0.22808\tvalidation_0-auc:0.92377\n",
      "[264]\tvalidation_0-merror:0.22768\tvalidation_0-auc:0.92377\n",
      "[265]\tvalidation_0-merror:0.22755\tvalidation_0-auc:0.92381\n",
      "[266]\tvalidation_0-merror:0.22768\tvalidation_0-auc:0.92384\n",
      "[267]\tvalidation_0-merror:0.22755\tvalidation_0-auc:0.92388\n",
      "[268]\tvalidation_0-merror:0.22795\tvalidation_0-auc:0.92386\n",
      "[269]\tvalidation_0-merror:0.22822\tvalidation_0-auc:0.92388\n",
      "[270]\tvalidation_0-merror:0.22808\tvalidation_0-auc:0.92388\n",
      "[271]\tvalidation_0-merror:0.22795\tvalidation_0-auc:0.92387\n",
      "[272]\tvalidation_0-merror:0.22755\tvalidation_0-auc:0.92385\n",
      "[273]\tvalidation_0-merror:0.22795\tvalidation_0-auc:0.92386\n",
      "[274]\tvalidation_0-merror:0.22728\tvalidation_0-auc:0.92388\n",
      "[275]\tvalidation_0-merror:0.22728\tvalidation_0-auc:0.92386\n",
      "[276]\tvalidation_0-merror:0.22728\tvalidation_0-auc:0.92383\n",
      "[277]\tvalidation_0-merror:0.22701\tvalidation_0-auc:0.92385\n",
      "[278]\tvalidation_0-merror:0.22714\tvalidation_0-auc:0.92386\n",
      "[279]\tvalidation_0-merror:0.22674\tvalidation_0-auc:0.92387\n",
      "[280]\tvalidation_0-merror:0.22768\tvalidation_0-auc:0.92385\n",
      "[281]\tvalidation_0-merror:0.22755\tvalidation_0-auc:0.92386\n",
      "[282]\tvalidation_0-merror:0.22755\tvalidation_0-auc:0.92384\n",
      "[283]\tvalidation_0-merror:0.22714\tvalidation_0-auc:0.92383\n",
      "[284]\tvalidation_0-merror:0.22768\tvalidation_0-auc:0.92383\n",
      "[285]\tvalidation_0-merror:0.22835\tvalidation_0-auc:0.92380\n",
      "[286]\tvalidation_0-merror:0.22835\tvalidation_0-auc:0.92378\n",
      "[287]\tvalidation_0-merror:0.22808\tvalidation_0-auc:0.92376\n",
      "[288]\tvalidation_0-merror:0.22768\tvalidation_0-auc:0.92375\n",
      "[289]\tvalidation_0-merror:0.22808\tvalidation_0-auc:0.92378\n"
     ]
    }
   ],
   "source": [
    "parameters = {\n",
    "    'objective': 'multi:softprob',\n",
    "    'learning_rate': 1.0e-1,\n",
    "    'n_estimators': 1000,\n",
    "    'early_stopping_rounds': 15,\n",
    "    'max_depth': 3,\n",
    "    'subsample': 0.5,\n",
    "    'eval_metric': ['merror', 'auc'],\n",
    "    'verbosity': 1,\n",
    "    'seed': SEED\n",
    "}\n",
    "\n",
    "if TRAIN_MODEL:\n",
    "    xgb_clf = XGBClassifier(**parameters)\n",
    "    \n",
    "    xgb_clf.fit(\n",
    "        X_train,\n",
    "        y_train,\n",
    "        eval_set=[(X_test, y_test)]\n",
    "    )\n",
    "\n",
    "    pickle.dump(xgb_clf, open(PATH_MODEL, \"wb\"))\n",
    "else:\n",
    "    xgb_clf = pickle.load(open(PATH_MODEL, 'rb'))"
   ],
   "metadata": {
    "collapsed": false,
    "ExecuteTime": {
     "end_time": "2023-12-05T21:06:46.782885500Z",
     "start_time": "2023-12-05T21:05:22.696702100Z"
    }
   },
   "id": "1c019e3de4688cd4"
  },
  {
   "cell_type": "code",
   "execution_count": 143,
   "outputs": [
    {
     "name": "stdout",
     "output_type": "stream",
     "text": [
      "AUC Train: 0.9964\n",
      "AUC Test: 0.9143\n",
      "Accuracy score on Test: 0.7727\n"
     ]
    }
   ],
   "source": [
    "train_pred_proba = xgb_clf.predict_proba(X_train)\n",
    "test_pred_proba = xgb_clf.predict_proba(X_test)\n",
    "test_pred = xgb_clf.predict(X_test)\n",
    "\n",
    "print(f\"AUC Train: {roc_auc_score(y_train, train_pred_proba, multi_class='ovr'):.4f}\\n\"\n",
    "      f\"AUC Test: {roc_auc_score(y_test, test_pred_proba, multi_class='ovr'):.4f}\\n\"\n",
    "      f\"Accuracy score on Test: {accuracy_score(y_test, test_pred):.4f}\")"
   ],
   "metadata": {
    "collapsed": false,
    "ExecuteTime": {
     "end_time": "2023-12-05T21:06:47.523347600Z",
     "start_time": "2023-12-05T21:06:46.782885500Z"
    }
   },
   "id": "9f962953c87ccc2a"
  }
 ],
 "metadata": {
  "kernelspec": {
   "display_name": "Python 3",
   "language": "python",
   "name": "python3"
  },
  "language_info": {
   "codemirror_mode": {
    "name": "ipython",
    "version": 2
   },
   "file_extension": ".py",
   "mimetype": "text/x-python",
   "name": "python",
   "nbconvert_exporter": "python",
   "pygments_lexer": "ipython2",
   "version": "2.7.6"
  }
 },
 "nbformat": 4,
 "nbformat_minor": 5
}
