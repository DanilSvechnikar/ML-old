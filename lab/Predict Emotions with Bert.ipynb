{
 "cells": [
  {
   "cell_type": "code",
   "execution_count": 55,
   "id": "initial_id",
   "metadata": {
    "collapsed": true,
    "ExecuteTime": {
     "end_time": "2023-12-10T12:58:22.996968200Z",
     "start_time": "2023-12-10T12:58:22.889138100Z"
    }
   },
   "outputs": [
    {
     "name": "stdout",
     "output_type": "stream",
     "text": [
      "The autoreload extension is already loaded. To reload it, use:\n",
      "  %reload_ext autoreload\n"
     ]
    }
   ],
   "source": [
    "%load_ext autoreload\n",
    "%autoreload 2\n",
    "\n",
    "import pandas as pd\n",
    "\n",
    "import torch\n",
    "from torch.utils.data import DataLoader, SequentialSampler\n",
    "\n",
    "from transformers import BertTokenizer, BertForSequenceClassification\n",
    "\n",
    "from utils import EmotionDataset, predict_with_model"
   ]
  },
  {
   "cell_type": "code",
   "execution_count": 56,
   "outputs": [],
   "source": [
    "PRED = False # If true, we use the model to predict labels\n",
    "PATH_MODEL = \"./Pre-trained Models/BertSentimentAnalysis.pth\"\n",
    "PATH_DATASET = './Data/Dataset_cleaned.csv'\n",
    "PATH_DATASET_WITH_EMOTIONS = './Data/Dataset_with_emotions.csv'"
   ],
   "metadata": {
    "collapsed": false,
    "ExecuteTime": {
     "end_time": "2023-12-10T12:58:23.088830300Z",
     "start_time": "2023-12-10T12:58:22.981201500Z"
    }
   },
   "id": "2fd53b4fc12d34e7"
  },
  {
   "cell_type": "code",
   "execution_count": 57,
   "outputs": [],
   "source": [
    "dataset = pd.read_csv(PATH_DATASET)['Application description']"
   ],
   "metadata": {
    "collapsed": false,
    "ExecuteTime": {
     "end_time": "2023-12-10T12:58:23.299828100Z",
     "start_time": "2023-12-10T12:58:23.077309500Z"
    }
   },
   "id": "40734c87b73e246c"
  },
  {
   "cell_type": "code",
   "execution_count": 58,
   "outputs": [],
   "source": [
    "model_name = \"cointegrated/rubert-tiny2\"\n",
    "\n",
    "tokenizer = BertTokenizer.from_pretrained(model_name, do_lower_case=True)"
   ],
   "metadata": {
    "collapsed": false,
    "ExecuteTime": {
     "end_time": "2023-12-10T12:58:23.852460400Z",
     "start_time": "2023-12-10T12:58:23.299771Z"
    }
   },
   "id": "33300d55e7b1a43e"
  },
  {
   "cell_type": "code",
   "execution_count": 59,
   "outputs": [],
   "source": [
    "batch_size = 256\n",
    "max_length = 100\n",
    "\n",
    "test_dataset = EmotionDataset(dataset, tokenizer, max_length=max_length)\n",
    "test_dataloader = DataLoader(\n",
    "    dataset=test_dataset,\n",
    "    batch_size=batch_size,\n",
    "    shuffle=False,\n",
    "    sampler=SequentialSampler(test_dataset)\n",
    ")"
   ],
   "metadata": {
    "collapsed": false,
    "ExecuteTime": {
     "end_time": "2023-12-10T12:58:23.960355500Z",
     "start_time": "2023-12-10T12:58:23.854576700Z"
    }
   },
   "id": "5fe5874dc1cd3eb1"
  },
  {
   "cell_type": "code",
   "execution_count": 60,
   "outputs": [
    {
     "name": "stderr",
     "output_type": "stream",
     "text": [
      "Some weights of BertForSequenceClassification were not initialized from the model checkpoint at cointegrated/rubert-tiny2 and are newly initialized: ['classifier.bias', 'classifier.weight']\n",
      "You should probably TRAIN this model on a down-stream task to be able to use it for predictions and inference.\n"
     ]
    }
   ],
   "source": [
    "device = torch.device('cuda' if torch.cuda.is_available() else 'cpu')\n",
    "\n",
    "model = BertForSequenceClassification.from_pretrained(model_name)"
   ],
   "metadata": {
    "collapsed": false,
    "ExecuteTime": {
     "end_time": "2023-12-10T12:58:24.509518500Z",
     "start_time": "2023-12-10T12:58:23.958180200Z"
    }
   },
   "id": "c9b1080430d9e30a"
  },
  {
   "cell_type": "code",
   "execution_count": 61,
   "outputs": [],
   "source": [
    "model.load_state_dict(torch.load(PATH_MODEL, map_location=device))\n",
    "model = model.to(device)"
   ],
   "metadata": {
    "collapsed": false,
    "ExecuteTime": {
     "end_time": "2023-12-10T12:58:24.970828200Z",
     "start_time": "2023-12-10T12:58:24.511646400Z"
    }
   },
   "id": "c7795fe5f3535038"
  },
  {
   "cell_type": "code",
   "execution_count": 62,
   "outputs": [],
   "source": [
    "if PRED:\n",
    "    pred = predict_with_model(\n",
    "        model,\n",
    "        test_dataloader,\n",
    "        device=device,\n",
    "        use_sigmoid=True,\n",
    "        return_labels=False\n",
    "    )\n",
    "\n",
    "    pred = pred.argmax(axis=1)\n",
    "    pred = ['Positive' if emotion == 1 else 'Negative' for emotion in pred]\n",
    "\n",
    "    dataset_with_emotions = pd.DataFrame({'Application description': dataset,\n",
    "                                          'Emotion': pred})\n",
    "    dataset_with_emotions.to_csv(PATH_DATASET_WITH_EMOTIONS, index=False)\n",
    "else:\n",
    "    dataset_with_emotions = pd.read_csv(PATH_DATASET_WITH_EMOTIONS)"
   ],
   "metadata": {
    "collapsed": false,
    "ExecuteTime": {
     "end_time": "2023-12-10T12:58:25.158408700Z",
     "start_time": "2023-12-10T12:58:24.973025400Z"
    }
   },
   "id": "130747e0ec4ecadc"
  },
  {
   "cell_type": "code",
   "execution_count": 64,
   "outputs": [
    {
     "data": {
      "text/plain": "                                 Application description   Emotion\n546    Не очищена от снега пешеходная дорожка между д...  Negative\n15178    Прошу забетонировать крыльцо 2 подъезда мира 7а  Positive\n23465  Нету тратуара чтоб люди живущие в 49 микрорайо...  Negative\n9092   Надписи присутствуют не первый день. Прямо нап...  Positive\n20938  За всю зиму ни разу не приезжал трактор - терп...  Negative\n2537   Не по ГОСТу установленный дорожный значения,ко...  Positive\n20269  Срочно установите ограждения! Дети мимо ходят,...  Negative\n15371    Как так!? Возмущает отсутствие! Требую сделать!  Negative\n22961  В доме проводится капитальный ремонт. Мусор не...  Negative\n805    Необходимо дублировать подземный пешеходный пе...  Positive",
      "text/html": "<div>\n<style scoped>\n    .dataframe tbody tr th:only-of-type {\n        vertical-align: middle;\n    }\n\n    .dataframe tbody tr th {\n        vertical-align: top;\n    }\n\n    .dataframe thead th {\n        text-align: right;\n    }\n</style>\n<table border=\"1\" class=\"dataframe\">\n  <thead>\n    <tr style=\"text-align: right;\">\n      <th></th>\n      <th>Application description</th>\n      <th>Emotion</th>\n    </tr>\n  </thead>\n  <tbody>\n    <tr>\n      <th>546</th>\n      <td>Не очищена от снега пешеходная дорожка между д...</td>\n      <td>Negative</td>\n    </tr>\n    <tr>\n      <th>15178</th>\n      <td>Прошу забетонировать крыльцо 2 подъезда мира 7а</td>\n      <td>Positive</td>\n    </tr>\n    <tr>\n      <th>23465</th>\n      <td>Нету тратуара чтоб люди живущие в 49 микрорайо...</td>\n      <td>Negative</td>\n    </tr>\n    <tr>\n      <th>9092</th>\n      <td>Надписи присутствуют не первый день. Прямо нап...</td>\n      <td>Positive</td>\n    </tr>\n    <tr>\n      <th>20938</th>\n      <td>За всю зиму ни разу не приезжал трактор - терп...</td>\n      <td>Negative</td>\n    </tr>\n    <tr>\n      <th>2537</th>\n      <td>Не по ГОСТу установленный дорожный значения,ко...</td>\n      <td>Positive</td>\n    </tr>\n    <tr>\n      <th>20269</th>\n      <td>Срочно установите ограждения! Дети мимо ходят,...</td>\n      <td>Negative</td>\n    </tr>\n    <tr>\n      <th>15371</th>\n      <td>Как так!? Возмущает отсутствие! Требую сделать!</td>\n      <td>Negative</td>\n    </tr>\n    <tr>\n      <th>22961</th>\n      <td>В доме проводится капитальный ремонт. Мусор не...</td>\n      <td>Negative</td>\n    </tr>\n    <tr>\n      <th>805</th>\n      <td>Необходимо дублировать подземный пешеходный пе...</td>\n      <td>Positive</td>\n    </tr>\n  </tbody>\n</table>\n</div>"
     },
     "execution_count": 64,
     "metadata": {},
     "output_type": "execute_result"
    }
   ],
   "source": [
    "dataset_with_emotions.sample(10)"
   ],
   "metadata": {
    "collapsed": false,
    "ExecuteTime": {
     "end_time": "2023-12-10T12:58:33.936187300Z",
     "start_time": "2023-12-10T12:58:33.835446900Z"
    }
   },
   "id": "25ce9f812e559314"
  }
 ],
 "metadata": {
  "kernelspec": {
   "display_name": "Python 3",
   "language": "python",
   "name": "python3"
  },
  "language_info": {
   "codemirror_mode": {
    "name": "ipython",
    "version": 2
   },
   "file_extension": ".py",
   "mimetype": "text/x-python",
   "name": "python",
   "nbconvert_exporter": "python",
   "pygments_lexer": "ipython2",
   "version": "2.7.6"
  }
 },
 "nbformat": 4,
 "nbformat_minor": 5
}
