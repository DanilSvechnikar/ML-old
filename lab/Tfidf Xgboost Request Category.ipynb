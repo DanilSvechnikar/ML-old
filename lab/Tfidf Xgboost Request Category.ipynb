{
 "cells": [
  {
   "cell_type": "code",
   "execution_count": 10,
   "id": "initial_id",
   "metadata": {
    "collapsed": true,
    "ExecuteTime": {
     "end_time": "2023-12-05T21:06:26.340750900Z",
     "start_time": "2023-12-05T21:06:25.173883Z"
    }
   },
   "outputs": [
    {
     "name": "stdout",
     "output_type": "stream",
     "text": [
      "The autoreload extension is already loaded. To reload it, use:\n",
      "  %reload_ext autoreload\n"
     ]
    }
   ],
   "source": [
    "%load_ext autoreload\n",
    "%autoreload 2\n",
    "\n",
    "import pandas as pd\n",
    "import pickle\n",
    "\n",
    "from sklearn.feature_extraction.text import TfidfVectorizer\n",
    "from sklearn.model_selection import train_test_split\n",
    "from sklearn.preprocessing import LabelEncoder\n",
    "\n",
    "from sklearn.metrics import accuracy_score\n",
    "from sklearn.metrics import roc_auc_score\n",
    "\n",
    "from xgboost import XGBClassifier\n",
    "\n",
    "import seaborn as sns\n",
    "import matplotlib.pyplot as plt\n",
    "\n",
    "from utils import init_random_seed, tokenize_text_simple_regex"
   ]
  },
  {
   "cell_type": "code",
   "execution_count": 11,
   "outputs": [],
   "source": [
    "SEED = 1\n",
    "TRAIN_MODEL = False # if True, then train model and save it. if False, just load it\n",
    "PATH_MODEL = \"./Pre-trained Models/tfidf_xgb_request_category.pkl\"\n",
    "PATH_DATASET = './Data/Dataset_cleaned.csv'"
   ],
   "metadata": {
    "collapsed": false,
    "ExecuteTime": {
     "end_time": "2023-12-05T21:06:26.700395700Z",
     "start_time": "2023-12-05T21:06:26.340750900Z"
    }
   },
   "id": "2fd53b4fc12d34e7"
  },
  {
   "cell_type": "code",
   "execution_count": null,
   "outputs": [],
   "source": [
    "init_random_seed(SEED)"
   ],
   "metadata": {
    "collapsed": false
   },
   "id": "82a82987eed76c99"
  },
  {
   "cell_type": "code",
   "execution_count": 12,
   "outputs": [
    {
     "data": {
      "text/plain": "                          Request category  \\\n0               Благоустройство территории   \n1               Благоустройство территории   \n2  Содержание и ремонт муниципальных дорог   \n3               Благоустройство территории   \n4  Содержание и ремонт муниципальных дорог   \n\n                             Application description  \n0  На трассе Нижнекамск-Чистополь в лесополосе у ...  \n1  Во дворе дома Ленинградская 29 отсутствуют пар...  \n2  Добрый день! Не осуществляется уборка снега в ...  \n3  Добрый день! Не осуществляется вывоз мусора с ...  \n4  на данном участке проезжей части от ул.Халитов...  ",
      "text/html": "<div>\n<style scoped>\n    .dataframe tbody tr th:only-of-type {\n        vertical-align: middle;\n    }\n\n    .dataframe tbody tr th {\n        vertical-align: top;\n    }\n\n    .dataframe thead th {\n        text-align: right;\n    }\n</style>\n<table border=\"1\" class=\"dataframe\">\n  <thead>\n    <tr style=\"text-align: right;\">\n      <th></th>\n      <th>Request category</th>\n      <th>Application description</th>\n    </tr>\n  </thead>\n  <tbody>\n    <tr>\n      <th>0</th>\n      <td>Благоустройство территории</td>\n      <td>На трассе Нижнекамск-Чистополь в лесополосе у ...</td>\n    </tr>\n    <tr>\n      <th>1</th>\n      <td>Благоустройство территории</td>\n      <td>Во дворе дома Ленинградская 29 отсутствуют пар...</td>\n    </tr>\n    <tr>\n      <th>2</th>\n      <td>Содержание и ремонт муниципальных дорог</td>\n      <td>Добрый день! Не осуществляется уборка снега в ...</td>\n    </tr>\n    <tr>\n      <th>3</th>\n      <td>Благоустройство территории</td>\n      <td>Добрый день! Не осуществляется вывоз мусора с ...</td>\n    </tr>\n    <tr>\n      <th>4</th>\n      <td>Содержание и ремонт муниципальных дорог</td>\n      <td>на данном участке проезжей части от ул.Халитов...</td>\n    </tr>\n  </tbody>\n</table>\n</div>"
     },
     "execution_count": 12,
     "metadata": {},
     "output_type": "execute_result"
    }
   ],
   "source": [
    "dataset = pd.read_csv(PATH_DATASET).iloc[:, :2]\n",
    "dataset.head()"
   ],
   "metadata": {
    "collapsed": false,
    "ExecuteTime": {
     "end_time": "2023-12-05T21:06:27.232899200Z",
     "start_time": "2023-12-05T21:06:26.700395700Z"
    }
   },
   "id": "40734c87b73e246c"
  },
  {
   "cell_type": "code",
   "execution_count": 13,
   "outputs": [
    {
     "name": "stdout",
     "output_type": "stream",
     "text": [
      "Unique classes of the variable Request category: 26\n"
     ]
    }
   ],
   "source": [
    "request_category_int = LabelEncoder().fit_transform(dataset['Request category'])\n",
    "print(f\"Unique classes of the variable Request category: {len(dataset['Request category'].unique())}\")"
   ],
   "metadata": {
    "collapsed": false,
    "ExecuteTime": {
     "end_time": "2023-12-05T21:06:27.416211200Z",
     "start_time": "2023-12-05T21:06:27.232899200Z"
    }
   },
   "id": "2a5f34f0068c7ef5"
  },
  {
   "cell_type": "code",
   "execution_count": 14,
   "outputs": [],
   "source": [
    "X_train, X_test, y_train, y_test = train_test_split(\n",
    "    dataset['Application description'],\n",
    "    request_category_int,\n",
    "    test_size=0.3,\n",
    "    shuffle=True,\n",
    "    stratify=request_category_int,\n",
    "    random_state=SEED\n",
    ")"
   ],
   "metadata": {
    "collapsed": false,
    "ExecuteTime": {
     "end_time": "2023-12-05T21:06:27.793086400Z",
     "start_time": "2023-12-05T21:06:27.369307100Z"
    }
   },
   "id": "d7cdea00f35453d0"
  },
  {
   "cell_type": "code",
   "execution_count": 15,
   "outputs": [
    {
     "data": {
      "text/plain": "((17380, 6251), (7449, 6251))"
     },
     "execution_count": 15,
     "metadata": {},
     "output_type": "execute_result"
    }
   ],
   "source": [
    "MAX_DF = 0.8\n",
    "MIN_COUNT = 5\n",
    "MIN_TOKEN_SIZE = 4\n",
    "\n",
    "tfidf_vectorizer = TfidfVectorizer(\n",
    "    tokenizer=lambda text: tokenize_text_simple_regex(text, min_token_size=MIN_TOKEN_SIZE),\n",
    "    max_df=MAX_DF,\n",
    "    min_df=MIN_COUNT,\n",
    "    token_pattern=None,\n",
    "    lowercase=False\n",
    ")\n",
    "\n",
    "X_train = tfidf_vectorizer.fit_transform(X_train)\n",
    "X_test = tfidf_vectorizer.transform(X_test)\n",
    "X_train.shape, X_test.shape"
   ],
   "metadata": {
    "collapsed": false,
    "ExecuteTime": {
     "end_time": "2023-12-05T21:06:28.797351300Z",
     "start_time": "2023-12-05T21:06:27.793086400Z"
    }
   },
   "id": "e29f16e43533a319"
  },
  {
   "cell_type": "code",
   "execution_count": 16,
   "outputs": [
    {
     "data": {
      "text/plain": "<Figure size 500x500 with 1 Axes>",
      "image/png": "[encoded data removed]"
     },
     "metadata": {},
     "output_type": "display_data"
    }
   ],
   "source": [
    "sns.displot(request_category_int, color='green')\n",
    "plt.xlabel('Num Classes')\n",
    "plt.title('Class Distribution');"
   ],
   "metadata": {
    "collapsed": false,
    "ExecuteTime": {
     "end_time": "2023-12-05T21:06:29.424734Z",
     "start_time": "2023-12-05T21:06:28.797351300Z"
    }
   },
   "id": "3bf1e0e8bd4bed53"
  },
  {
   "cell_type": "code",
   "execution_count": 17,
   "outputs": [],
   "source": [
    "parameters = {\n",
    "    'objective': 'multi:softprob',\n",
    "    'learning_rate': 1.0e-1,\n",
    "    'n_estimators': 1000,\n",
    "    'early_stopping_rounds': 15,\n",
    "    'max_depth': 3,\n",
    "    'subsample': 0.5,\n",
    "    'eval_metric': ['merror', 'auc'],\n",
    "    'verbosity': 1,\n",
    "    'seed': SEED\n",
    "}\n",
    "\n",
    "if TRAIN_MODEL:\n",
    "    xgb_clf = XGBClassifier(**parameters)\n",
    "    \n",
    "    xgb_clf.fit(\n",
    "        X_train,\n",
    "        y_train,\n",
    "        eval_set=[(X_test, y_test)]\n",
    "    )\n",
    "\n",
    "    pickle.dump(xgb_clf, open(PATH_MODEL, \"wb\"))\n",
    "else:\n",
    "    xgb_clf = pickle.load(open(PATH_MODEL, 'rb'))"
   ],
   "metadata": {
    "collapsed": false,
    "ExecuteTime": {
     "end_time": "2023-12-05T21:06:30.140900Z",
     "start_time": "2023-12-05T21:06:29.415402900Z"
    }
   },
   "id": "1c019e3de4688cd4"
  },
  {
   "cell_type": "code",
   "execution_count": 18,
   "outputs": [
    {
     "name": "stdout",
     "output_type": "stream",
     "text": [
      "AUC Train: 0.9876\n",
      "AUC Test: 0.8943\n",
      "Accuracy score on Test: 0.7730\n"
     ]
    }
   ],
   "source": [
    "train_pred_proba = xgb_clf.predict_proba(X_train)\n",
    "test_pred_proba = xgb_clf.predict_proba(X_test)\n",
    "test_pred = xgb_clf.predict(X_test)\n",
    "\n",
    "print(f\"AUC Train: {roc_auc_score(y_train, train_pred_proba, multi_class='ovr'):.4f}\\n\"\n",
    "      f\"AUC Test: {roc_auc_score(y_test, test_pred_proba, multi_class='ovr'):.4f}\\n\"\n",
    "      f\"Accuracy score on Test: {accuracy_score(y_test, test_pred):.4f}\")"
   ],
   "metadata": {
    "collapsed": false,
    "ExecuteTime": {
     "end_time": "2023-12-05T21:06:37.364018900Z",
     "start_time": "2023-12-05T21:06:30.139477300Z"
    }
   },
   "id": "9f962953c87ccc2a"
  }
 ],
 "metadata": {
  "kernelspec": {
   "display_name": "Python 3",
   "language": "python",
   "name": "python3"
  },
  "language_info": {
   "codemirror_mode": {
    "name": "ipython",
    "version": 2
   },
   "file_extension": ".py",
   "mimetype": "text/x-python",
   "name": "python",
   "nbconvert_exporter": "python",
   "pygments_lexer": "ipython2",
   "version": "2.7.6"
  }
 },
 "nbformat": 4,
 "nbformat_minor": 5
}
