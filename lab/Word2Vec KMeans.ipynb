{
 "cells": [
  {
   "cell_type": "code",
   "execution_count": 28,
   "id": "initial_id",
   "metadata": {
    "collapsed": true,
    "ExecuteTime": {
     "end_time": "2023-12-08T10:52:39.381063200Z",
     "start_time": "2023-12-08T10:52:38.836922500Z"
    }
   },
   "outputs": [
    {
     "name": "stdout",
     "output_type": "stream",
     "text": [
      "The autoreload extension is already loaded. To reload it, use:\n",
      "  %reload_ext autoreload\n"
     ]
    }
   ],
   "source": [
    "%load_ext autoreload\n",
    "%autoreload 2\n",
    "\n",
    "import pandas as pd\n",
    "import numpy as np\n",
    "import pickle\n",
    "\n",
    "from sklearn.cluster import KMeans\n",
    "from sklearn.metrics import silhouette_score\n",
    "\n",
    "from gensim.models import Word2Vec\n",
    "\n",
    "import matplotlib.pyplot as plt\n",
    "\n",
    "from utils import init_random_seed, document_vectorizer, tokenize_corpus"
   ]
  },
  {
   "cell_type": "code",
   "execution_count": 29,
   "outputs": [],
   "source": [
    "SEED = 1\n",
    "TRAIN_MODEL = False # if True, then train model and save it. if False, just load it\n",
    "PATH_MODEL = \"./Pre-trained Models/word2vec_kmeans.pkl\"\n",
    "PATH_DATASET = './Data/Dataset_cleaned.csv'"
   ],
   "metadata": {
    "collapsed": false,
    "ExecuteTime": {
     "end_time": "2023-12-08T10:52:40.938118Z",
     "start_time": "2023-12-08T10:52:39.396734400Z"
    }
   },
   "id": "2fd53b4fc12d34e7"
  },
  {
   "cell_type": "code",
   "execution_count": 30,
   "outputs": [],
   "source": [
    "init_random_seed(SEED)"
   ],
   "metadata": {
    "collapsed": false,
    "ExecuteTime": {
     "end_time": "2023-12-08T10:52:43.050260900Z",
     "start_time": "2023-12-08T10:52:40.938118Z"
    }
   },
   "id": "dfe0688c5f3761bf"
  },
  {
   "cell_type": "code",
   "execution_count": 31,
   "outputs": [
    {
     "data": {
      "text/plain": "0    На трассе Нижнекамск-Чистополь в лесополосе у ...\n1    Во дворе дома Ленинградская 29 отсутствуют пар...\n2    Добрый день! Не осуществляется уборка снега в ...\n3    Добрый день! Не осуществляется вывоз мусора с ...\n4    на данном участке проезжей части от ул.Халитов...\nName: Application description, dtype: object"
     },
     "execution_count": 31,
     "metadata": {},
     "output_type": "execute_result"
    }
   ],
   "source": [
    "dataset = pd.read_csv(PATH_DATASET)['Application description']\n",
    "dataset.head()"
   ],
   "metadata": {
    "collapsed": false,
    "ExecuteTime": {
     "end_time": "2023-12-08T10:52:45.002227900Z",
     "start_time": "2023-12-08T10:52:43.178542400Z"
    }
   },
   "id": "40734c87b73e246c"
  },
  {
   "cell_type": "code",
   "execution_count": 32,
   "outputs": [],
   "source": [
    "dataset = tokenize_corpus(dataset, min_token_size=4)"
   ],
   "metadata": {
    "collapsed": false,
    "ExecuteTime": {
     "end_time": "2023-12-08T10:52:45.766186200Z",
     "start_time": "2023-12-08T10:52:44.987063300Z"
    }
   },
   "id": "3cec85c82c5670c5"
  },
  {
   "cell_type": "code",
   "execution_count": 33,
   "outputs": [],
   "source": [
    "word2vec = Word2Vec(\n",
    "    sentences=dataset,\n",
    "    vector_size=50,\n",
    "    window=5,\n",
    "    min_count=5,\n",
    "    sg=1,\n",
    "    epochs=10,\n",
    "    seed=SEED\n",
    ")"
   ],
   "metadata": {
    "collapsed": false,
    "ExecuteTime": {
     "end_time": "2023-12-08T10:52:51.396783900Z",
     "start_time": "2023-12-08T10:52:45.849302900Z"
    }
   },
   "id": "e29f16e43533a319"
  },
  {
   "cell_type": "code",
   "execution_count": 34,
   "outputs": [],
   "source": [
    "data = np.array([document_vectorizer(doc, word2vec) for doc in dataset])"
   ],
   "metadata": {
    "collapsed": false,
    "ExecuteTime": {
     "end_time": "2023-12-08T10:52:52.726603200Z",
     "start_time": "2023-12-08T10:52:51.396783900Z"
    }
   },
   "id": "329ab5b7eca60708"
  },
  {
   "cell_type": "code",
   "execution_count": 35,
   "outputs": [],
   "source": [
    "max_cluster = 50\n",
    "inertia = []\n",
    "\n",
    "if TRAIN_MODEL:\n",
    "    for cluster_num in range(1, max_cluster):\n",
    "        k_means = KMeans(\n",
    "            init='k-means++',\n",
    "            n_clusters=cluster_num,\n",
    "            n_init='auto',\n",
    "            max_iter=300,\n",
    "            verbose=0,\n",
    "            random_state=SEED\n",
    "        )\n",
    "    \n",
    "        k_means.fit(data)\n",
    "        inertia.append(k_means.inertia_)"
   ],
   "metadata": {
    "collapsed": false,
    "ExecuteTime": {
     "end_time": "2023-12-08T10:53:05.354223200Z",
     "start_time": "2023-12-08T10:52:52.929098100Z"
    }
   },
   "id": "cd132210b6d06ce8"
  },
  {
   "cell_type": "code",
   "execution_count": 36,
   "outputs": [
    {
     "data": {
      "text/plain": "<Figure size 640x480 with 1 Axes>",
      "image/png": "[encoded data removed]"
     },
     "metadata": {},
     "output_type": "display_data"
    }
   ],
   "source": [
    "if TRAIN_MODEL:\n",
    "    plt.plot(range(1, max_cluster), inertia, marker='s')\n",
    "    plt.xlabel('Num Clusters')\n",
    "    plt.ylabel('WCSS')"
   ],
   "metadata": {
    "collapsed": false,
    "ExecuteTime": {
     "end_time": "2023-12-08T10:53:05.603383600Z",
     "start_time": "2023-12-08T10:53:05.359259400Z"
    }
   },
   "id": "ae436db69edb774e"
  },
  {
   "cell_type": "code",
   "execution_count": 37,
   "outputs": [],
   "source": [
    "if TRAIN_MODEL:\n",
    "    cluster_num = 25\n",
    "\n",
    "    k_means = KMeans(\n",
    "        init='k-means++',\n",
    "        n_clusters=cluster_num,\n",
    "        n_init='auto',\n",
    "        max_iter=300,\n",
    "        verbose=0,\n",
    "        random_state=SEED\n",
    "    )\n",
    "    \n",
    "    k_means.fit(data)\n",
    "    \n",
    "    pickle.dump(k_means, open(PATH_MODEL, \"wb\"))"
   ],
   "metadata": {
    "collapsed": false,
    "ExecuteTime": {
     "end_time": "2023-12-08T10:53:05.919559500Z",
     "start_time": "2023-12-08T10:53:05.603383600Z"
    }
   },
   "id": "52e593a2a7a87457"
  },
  {
   "cell_type": "code",
   "execution_count": 38,
   "outputs": [],
   "source": [
    "if not TRAIN_MODEL:\n",
    "    k_means = pickle.load(open(PATH_MODEL, 'rb'))"
   ],
   "metadata": {
    "collapsed": false,
    "ExecuteTime": {
     "end_time": "2023-12-08T10:53:06.020998Z",
     "start_time": "2023-12-08T10:53:05.919559500Z"
    }
   },
   "id": "3f547f1da2ca75a"
  },
  {
   "cell_type": "code",
   "execution_count": 39,
   "outputs": [
    {
     "name": "stdout",
     "output_type": "stream",
     "text": [
      "Silhouette Coefficient: 0.0700\n"
     ]
    }
   ],
   "source": [
    "pred = k_means.labels_\n",
    "print(f\"Silhouette Coefficient: {silhouette_score(data, pred):.4f}\")"
   ],
   "metadata": {
    "collapsed": false,
    "ExecuteTime": {
     "end_time": "2023-12-08T10:53:11.648120500Z",
     "start_time": "2023-12-08T10:53:06.026033100Z"
    }
   },
   "id": "f65a4f6ea69a75a4"
  }
 ],
 "metadata": {
  "kernelspec": {
   "display_name": "Python 3",
   "language": "python",
   "name": "python3"
  },
  "language_info": {
   "codemirror_mode": {
    "name": "ipython",
    "version": 2
   },
   "file_extension": ".py",
   "mimetype": "text/x-python",
   "name": "python",
   "nbconvert_exporter": "python",
   "pygments_lexer": "ipython2",
   "version": "2.7.6"
  }
 },
 "nbformat": 4,
 "nbformat_minor": 5
}
